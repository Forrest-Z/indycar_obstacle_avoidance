{
 "cells": [
  {
   "cell_type": "markdown",
   "metadata": {},
   "source": [
    "## C2 Trajectory Generation\n",
    "Generates curvature-continuous trajectory given a set of x,y coordinates and initial and final heading constraints\n",
    "\n",
    "### Libraries\n",
    "- Python: scipy.interpolate.CubicSpline\n",
    "    - Use `bc_type=((1, 0.0), (1, 0.0))` to clamp heading derivatives at the boundaries\n",
    "- C++: https://www.alglib.net/translator/man/manual.cpython.html#example_spline1d_d_cubic"
   ]
  },
  {
   "cell_type": "code",
   "execution_count": 1,
   "metadata": {},
   "outputs": [],
   "source": [
    "%load_ext autoreload\n",
    "%autoreload 2\n",
    "\n",
    "import numpy as np\n",
    "import math\n",
    "from scipy.interpolate import CubicSpline\n",
    "import matplotlib.pyplot as plt"
   ]
  },
  {
   "cell_type": "code",
   "execution_count": 2,
   "metadata": {},
   "outputs": [],
   "source": [
    "def unitvec_from_heading(theta):\n",
    "    x = np.cos(theta)\n",
    "    y = np.sin(theta)\n",
    "    ds = (x**2 + y**2)**0.5\n",
    "    return (x/ds, y/ds)"
   ]
  },
  {
   "cell_type": "code",
   "execution_count": 3,
   "metadata": {},
   "outputs": [
    {
     "data": {
      "image/png": "[encoded data removed]",
      "text/plain": [
       "<Figure size 720x360 with 1 Axes>"
      ]
     },
     "metadata": {
      "needs_background": "light"
     },
     "output_type": "display_data"
    }
   ],
   "source": [
    "# Test Case\n",
    "# points defined as (x,y,theta(heading))\n",
    "bc_headings = (np.pi/8, -np.pi/12)\n",
    "nodes = [(0,0,bc_headings[0]), \n",
    "         (2.0, 0.3, None), \n",
    "         (3.0, 0.5, None), \n",
    "         (4.1, -0.2, None),\n",
    "         (5.0, -0.4, None), \n",
    "         (6.0, 0.0, bc_headings[1])]\n",
    "x = np.array([i[0] for i in nodes])\n",
    "y = np.array([i[1] for i in nodes])\n",
    "theta = np.array([i[2] for i in nodes])\n",
    "\n",
    "# Heading constraint unit vectors\n",
    "hvec_start = unitvec_from_heading(bc_headings[0])\n",
    "hvec_end = unitvec_from_heading(bc_headings[1])\n",
    "\n",
    "# Plot test case\n",
    "fig = plt.figure(figsize=(10,5))\n",
    "ax = fig.add_subplot(111)\n",
    "ax.set_ylim(-1.5, 1.5)\n",
    "ax.set_xlim(-1, 7.5)\n",
    "ax.scatter(x,y)\n",
    "ax.annotate(\"\", xy=(x[0] + hvec_start[0], y[0] + hvec_start[1]), xytext=(x[0], y[0]), arrowprops=dict(arrowstyle=\"->\", color=\"red\"))\n",
    "ax.annotate(\"\", xy=(x[-1] + hvec_end[0], y[-1] + hvec_end[1]), xytext=(x[-1], y[-1]), arrowprops=dict(arrowstyle=\"->\", color=\"red\"))\n",
    "ax.set_aspect('equal')"
   ]
  },
  {
   "cell_type": "code",
   "execution_count": 10,
   "metadata": {},
   "outputs": [],
   "source": [
    "def gen_c2_spline(x, y, bc_headings, slen_start, slen_end):\n",
    "    # define mu, a virtual path variable of length 1 for each spline segment\n",
    "    assert(len(x) == len(y))\n",
    "    mu = np.arange(0,len(x), 1.0)\n",
    "\n",
    "    # build splines\n",
    "    cs_x = CubicSpline(mu, x, \n",
    "                   bc_type=((1, slen_start * np.cos(bc_headings[0])), \n",
    "                            (1, slen_end * np.cos(bc_headings[1]))))\n",
    "    cs_y = CubicSpline(mu, y, \n",
    "                   bc_type=((1, slen_start * np.sin(bc_headings[0])), \n",
    "                            (1, slen_end * np.sin(bc_headings[1]))))\n",
    "    return cs_x, cs_y\n",
    "    "
   ]
  },
  {
   "cell_type": "code",
   "execution_count": 11,
   "metadata": {},
   "outputs": [],
   "source": [
    "# Compute the first and last segment path lengths\n",
    "def calc_spline_length(x_coeffs, y_coeffs, n_ips=20):\n",
    "    '''\n",
    "    Returns numerically computed length along cubic spline\n",
    "    x_coeffs: array of 4 x coefficients\n",
    "    y_coeffs: array of 4 y coefficients\n",
    "    '''\n",
    "    \n",
    "    t_steps = np.linspace(0.0, 1.0, n_ips)\n",
    "    spl_coords = np.zeros((n_ips, 2))\n",
    "    \n",
    "    spl_coords[:,0] = x_coeffs[0] \\\n",
    "                        + x_coeffs[1] * t_steps \\\n",
    "                        + x_coeffs[2] * np.power(t_steps, 2) \\\n",
    "                        + x_coeffs[3] * np.power(t_steps, 3)\n",
    "    spl_coords[:,1] = y_coeffs[0] \\\n",
    "                        + y_coeffs[1] * t_steps \\\n",
    "                        + y_coeffs[2] * np.power(t_steps, 2) \\\n",
    "                        + y_coeffs[3] * np.power(t_steps, 3)\n",
    "        \n",
    "    slength = np.sum(np.sqrt(np.sum(np.power(np.diff(spl_coords, axis=0), 2), axis=1)))\n",
    "    return slength\n"
   ]
  },
  {
   "cell_type": "code",
   "execution_count": 14,
   "metadata": {},
   "outputs": [],
   "source": [
    "def calc_c2_traj(x, y, bc_headings, eps = 0.005):\n",
    "    '''\n",
    "    Iteratively compute spline coefficients until spline length of first and last segment converges\n",
    "    '''\n",
    "\n",
    "    # Start with euclidean dist as slen approx for first and last segments\n",
    "    slen_start = np.sqrt((x[1] - x[0])**2 + (y[1] - y[0])**2)\n",
    "    slen_end = np.sqrt((x[-1] - x[-2])**2 + (y[-1] - y[-2])**2)\n",
    "#     print(slen_start, slen_end)\n",
    "\n",
    "    while True:\n",
    "        cx, cy = gen_c2_spline(x, y, bc_headings, slen_start, slen_end)\n",
    "        coeffs_x_start = np.flip(cx.c[:,0])\n",
    "        coeffs_y_start = np.flip(cy.c[:,0])\n",
    "        coeffs_x_end = np.flip(cx.c[:,-1])\n",
    "        coeffs_y_end = np.flip(cy.c[:,-1])\n",
    "\n",
    "        slen_start_new = calc_spline_length(coeffs_x_start, coeffs_y_start)\n",
    "        slen_end_new = calc_spline_length(coeffs_x_end, coeffs_y_end)\n",
    "#         print(slen_start_new, slen_end_new)\n",
    "\n",
    "        if abs(slen_start_new - slen_start) < eps and abs(slen_end_new - slen_end) < eps:\n",
    "            break\n",
    "        else:\n",
    "            slen_start = slen_start_new\n",
    "            slen_end = slen_end_new\n",
    "\n",
    "    return cx, cy"
   ]
  },
  {
   "cell_type": "code",
   "execution_count": 16,
   "metadata": {},
   "outputs": [
    {
     "name": "stdout",
     "output_type": "stream",
     "text": [
      "2.0223748416156684 1.077032961426901\n",
      "2.0299995268328304 1.104494321772369\n",
      "2.0300493616680075 1.1056639275257878\n",
      "Check Start Boundary:  0.39269908169872414 1.8754750138484486\n",
      "Check End Boundary:  -0.2617993877991494 1.0212723679019597\n"
     ]
    },
    {
     "data": {
      "image/png": "[encoded data removed]",
      "text/plain": [
       "<Figure size 720x360 with 1 Axes>"
      ]
     },
     "metadata": {
      "needs_background": "light"
     },
     "output_type": "display_data"
    }
   ],
   "source": [
    "# Test iterative calc trajectory generation\n",
    "cx, cy = calc_c2_traj(x, y, bc_headings)\n",
    "\n",
    "# Plot\n",
    "mu = np.arange(0,len(x), 1.0)\n",
    "ts = np.arange(mu[0]-.5, mu[-1]+.5, 0.1)\n",
    "\n",
    "fig, ax = plt.subplots(figsize=(10, 5))\n",
    "ax.set_ylim(-1.5, 1.5)\n",
    "ax.set_xlim(-1, 7.5)\n",
    "ax.plot(x, y, 'o', label= 'nodes')\n",
    "ax.plot(cx(ts), cy(ts), label='spline')\n",
    "ax.annotate(\"\", xy=(x[0] + hvec_start[0], y[0] + hvec_start[1]), xytext=(x[0], y[0]), arrowprops=dict(arrowstyle=\"->\", color=\"red\"))\n",
    "ax.annotate(\"\", xy=(x[-1] + hvec_end[0], y[-1] + hvec_end[1]), xytext=(x[-1], y[-1]), arrowprops=dict(arrowstyle=\"->\", color=\"red\"))\n",
    "ax.set_aspect('equal')\n",
    "\n",
    "print('Check Start Boundary: ', bc_headings[0], cx(x[0],1))\n",
    "print('Check End Boundary: ', bc_headings[-1], cx(x[-1],1))"
   ]
  },
  {
   "cell_type": "code",
   "execution_count": null,
   "metadata": {},
   "outputs": [],
   "source": [
    "# Check heading and curvature\n",
    "fig, ax = plt.subplots(1, 2, figsize=(14, 4))\n",
    "ax[0].plot(ts, cx(ts,1), label='Heading')\n",
    "ax[0].plot(ts, cx(ts,2), label='Curvature')\n",
    "\n",
    "ax[1].plot(ts, cy(ts,1), label='Heading')\n",
    "ax[1].plot(ts, cy(ts,2), label='Curvature')"
   ]
  },
  {
   "cell_type": "code",
   "execution_count": null,
   "metadata": {},
   "outputs": [],
   "source": []
  },
  {
   "cell_type": "code",
   "execution_count": null,
   "metadata": {},
   "outputs": [],
   "source": []
  },
  {
   "cell_type": "code",
   "execution_count": null,
   "metadata": {},
   "outputs": [],
   "source": []
  }
 ],
 "metadata": {
  "kernelspec": {
   "display_name": "Python 3",
   "language": "python",
   "name": "python3"
  },
  "language_info": {
   "codemirror_mode": {
    "name": "ipython",
    "version": 3
   },
   "file_extension": ".py",
   "mimetype": "text/x-python",
   "name": "python",
   "nbconvert_exporter": "python",
   "pygments_lexer": "ipython3",
   "version": "3.7.7"
  }
 },
 "nbformat": 4,
 "nbformat_minor": 4
}
