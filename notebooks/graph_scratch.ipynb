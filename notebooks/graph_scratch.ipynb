{
 "cells": [
  {
   "cell_type": "code",
   "execution_count": 286,
   "metadata": {},
   "outputs": [
    {
     "name": "stdout",
     "output_type": "stream",
     "text": [
      "The autoreload extension is already loaded. To reload it, use:\n",
      "  %reload_ext autoreload\n"
     ]
    }
   ],
   "source": [
    "%load_ext autoreload\n",
    "%autoreload 2\n",
    "\n",
    "import numpy as np\n",
    "import matplotlib.pyplot as plt\n",
    "import json\n",
    "import PyQt5\n",
    "from scipy.interpolate import UnivariateSpline, CubicSpline\n",
    "from utils import *"
   ]
  },
  {
   "cell_type": "code",
   "execution_count": 250,
   "metadata": {},
   "outputs": [
    {
     "name": "stdout",
     "output_type": "stream",
     "text": [
      "Track Length:  4022.314734733444\n"
     ]
    }
   ],
   "source": [
    "##### PARAMETERS #####\n",
    "trackfile             = \"./data/ims_track_midline.csv\"  # Data in meters. Defined as midline and normal distance to track boundaries\n",
    "parsed_trackfile_out  = \"./data/ims_track_parsed.csv\"   # Location to write parsed track data\n",
    "vehicle_width         = 1.6                             # Meters\n",
    "lateral_safety_buffer = 1.0                             # Min distance from vehicle outer edge to track bound for node creation (meters)\n",
    "\n",
    "long_sep_straight     = 20                              # Longitudinal separation between nodes on straights (m)\n",
    "long_sep_curve        = 8                               # Longitudinal separation between nodes on curves (m)\n",
    "lat_sep               = 0.5                             # Lateral separation between nodes (m)\n",
    "curvature_thresh      = 0.001                           # If segment's max curvature > threshold, segment is considered a curve, else a straight\n",
    "\n",
    "cost_weights = {                                        # Weights for curvature cost function that sets costs on each segment length\n",
    "    'w_len': 10,\n",
    "    'w_kavg': 750,\n",
    "    'w_kdelta': 1500,\n",
    "    'w_offset': 5000\n",
    "}\n",
    "\n",
    "##### PARSE TRACK GEOMETRY #####\n",
    "\n",
    "# Load track data and close the loop w/ start point\n",
    "track_data = np.genfromtxt(trackfile, delimiter=\",\", names=True)\n",
    "track_data = np.append(track_data, track_data[0])\n",
    "# TODO if/else append or replace last point depending on distance from orginal last to start\n",
    "\n",
    "# Fit midline spline using provided discretization\n",
    "s_map        = np.linspace(0, 1.0, num=track_data.shape[0])\n",
    "x_spline_mid = CubicSpline(s_map, track_data[\"x\"])\n",
    "y_spline_mid = CubicSpline(s_map, track_data[\"y\"])\n",
    "\n",
    "# Estimate length of track midline\n",
    "# Should be close to 2.5 miles * 1609.34 = 4023.35 meters\n",
    "n_interps    = 50000\n",
    "t_fine       = np.linspace(0.0, 1.0, n_interps)\n",
    "spl_coords   = np.zeros((n_interps, 2))\n",
    "spl_coords[:,0] = x_spline_mid(t_fine)\n",
    "spl_coords[:,1] = y_spline_mid(t_fine)\n",
    "tracklength     = np.sum(np.sqrt(np.sum(np.power(np.diff(spl_coords, axis=0), 2), axis=1)))\n",
    "print('Track Length: ', tracklength)\n",
    "\n",
    "# Re-fit spline using estimated track length. Allows frenet station to correspond\n",
    "# to actual distance along the raceline/midline \n",
    "s_map        = np.linspace(0, tracklength, num=track_data.shape[0])\n",
    "x_spline_mid = CubicSpline(s_map, track_data[\"x\"])\n",
    "y_spline_mid = CubicSpline(s_map, track_data[\"y\"])\n",
    "\n",
    "# Remap to finer meter-level interpolation\n",
    "s_fine = s_fine = np.arange(0, tracklength, 1)\n",
    "x_mid  = x_spline_mid(s_fine)\n",
    "y_mid  = y_spline_mid(s_fine)\n",
    "\n",
    "# Get normal and tangent unit vectors wrt refline at every station\n",
    "mid_norms    = get_unit_norms(s_fine, x_spline_mid, y_spline_mid)\n",
    "mid_tangents = get_unit_tangents(s_fine, x_spline_mid, y_spline_mid)\n",
    "\n",
    "# Headings and curvature\n",
    "mid_headings = get_headings(s_fine, x_spline_mid, y_spline_mid)\n",
    "mid_curvature = get_curvature(s_fine, x_spline_mid, y_spline_mid)\n",
    "\n",
    "# Interpolate track widths\n",
    "left_widths  = np.interp(s_fine, s_map, track_data[\"width_left\"])\n",
    "right_widths = np.interp(s_fine, s_map, track_data[\"width_right\"])\n",
    "\n",
    "# Get track boundary points (normal to midline)\n",
    "left_boundary_xy  = frenet2cart(s_fine, -left_widths, x_spline_mid, y_spline_mid)\n",
    "right_boundary_xy = frenet2cart(s_fine, right_widths, x_spline_mid, y_spline_mid)\n",
    "\n",
    "# Get headings at track boundary by fitting boundary points to spline\n",
    "left_bound_spline_x  = CubicSpline(s_fine, left_boundary_xy[:,0])\n",
    "left_bound_spline_y  = CubicSpline(s_fine, left_boundary_xy[:,1])\n",
    "right_bound_spline_x = CubicSpline(s_fine, right_boundary_xy[:,0])\n",
    "right_bound_spline_y = CubicSpline(s_fine, right_boundary_xy[:,1])\n",
    "left_bound_headings  = get_headings(s_fine, left_bound_spline_x, left_bound_spline_y)\n",
    "right_bound_headings = get_headings(s_fine, right_bound_spline_x, right_bound_spline_y)\n",
    "\n",
    "# Write parsed track data out to file\n",
    "parsed_track = np.column_stack((s_fine, x_mid, y_mid, mid_headings, mid_curvature,\n",
    "                                mid_norms, mid_tangents, \n",
    "                                left_widths, right_widths,\n",
    "                                left_boundary_xy, left_bound_headings,\n",
    "                                right_boundary_xy, right_bound_headings))\n",
    "col_names = \"s, x_mid, y_mid, psi_mid, kappa_mid x_n, y_n, x_t, y_t, \\\n",
    "             w_left, w_right, x_left, y_left, psi_left, x_right, y_right, psi_right\"\n",
    "np.savetxt(parsed_trackfile_out, parsed_track, delimiter=\",\", header=col_names)"
   ]
  },
  {
   "cell_type": "code",
   "execution_count": 251,
   "metadata": {},
   "outputs": [],
   "source": [
    "##### GENERATE TRACK LATTICE #####\n",
    "\n",
    "# Generate station intervals for nodes based on curvature parameters\n",
    "stations = [0]                                       # start at s = 0\n",
    "while s_fine[-1] - stations[-1] > long_sep_curve:\n",
    "    s_cur = stations[-1]\n",
    "    s_next_straight = s_cur + long_sep_straight\n",
    "    s_next_curve = s_cur + long_sep_curve\n",
    "    \n",
    "    curved = False\n",
    "    for s in range(s_cur, s_next_straight):\n",
    "        if mid_curvature[s] >= curvature_thresh:\n",
    "            curved = True\n",
    "    if curved:\n",
    "        stations.append(s_next_curve)\n",
    "    else:\n",
    "        stations.append(s_next_straight)\n",
    "\n"
   ]
  },
  {
   "cell_type": "code",
   "execution_count": 252,
   "metadata": {},
   "outputs": [],
   "source": [
    "lat_disp = np.arange(-10,11,lat_sep)                 # possible lateral offsets (meters)\n",
    "nodes = {}\n",
    "for s in stations:\n",
    "    nodes[str(s)] = {}\n",
    "\n",
    "    for l in lat_disp:\n",
    "        l_bound = -left_widths[s] + (vehicle_width/2 + lateral_safety_buffer)\n",
    "        r_bound = right_widths[s] - (vehicle_width/2 + lateral_safety_buffer)\n",
    "        if l_bound < l < r_bound:\n",
    "            \n",
    "            xy = frenet2cart(s, l, x_spline_mid, y_spline_mid)\n",
    "            psi = np.interp(l, \n",
    "                            [-left_widths[s], 0, right_widths[s]], \n",
    "                            [left_bound_headings[s], mid_headings[s], right_bound_headings[s]]\n",
    "                           )\n",
    "            \n",
    "            nodes[str(s)][str(l)] = {\n",
    "                'x':     xy[0][0],\n",
    "                'y':     xy[0][1],\n",
    "                'psi':   psi\n",
    "            }"
   ]
  },
  {
   "cell_type": "code",
   "execution_count": 284,
   "metadata": {},
   "outputs": [],
   "source": [
    "# Edges dict\n",
    "\n",
    "edges = {}\n",
    "for i in range(len(stations) - 1):\n",
    "    s_start = stations[i]\n",
    "    s_end = stations[i+1]\n",
    "    edges[str(s_start)] = {}\n",
    "    \n",
    "    for l_start, v_start in nodes[str(s_start)].items():\n",
    "        edges[str(s_start)][str(l_start)] = {}\n",
    "        x_start   = v_start['x']\n",
    "        y_start   = v_start['y']\n",
    "        psi_start = v_start['psi']\n",
    "        \n",
    "        for l_end, v_end in nodes[str(s_end)].items():\n",
    "            x_end   = v_end['x']\n",
    "            y_end   = v_end['y']\n",
    "            psi_end = v_end['psi']\n",
    "            \n",
    "            x_a0 = x_start\n",
    "            x_a1 = np.cos(psi_start)\n",
    "            x_a2 = 3*x_end - np.cos(psi_end) - 2*x_a1 - 3*x_a0\n",
    "            x_a3 = x_end - x_a2 - x_a1 - x_a0\n",
    "\n",
    "            y_a0 = y_start\n",
    "            y_a1 = np.sin(psi_start) \n",
    "            y_a2 = 3*y_end - np.sin(psi_end) - 2*y_a1 - 3*y_a0\n",
    "            y_a3 = y_end - y_a2 - y_a1 - y_a0\n",
    "            \n",
    "            coeffs = ((x_a0, x_a1, x_a2, x_a3),\n",
    "                      (y_a0, y_a1, y_a2, y_a3))\n",
    "            \n",
    "            ## Cost info\n",
    "            cost = edge_cost_curv(coeffs, float(l_end), **cost_weights)\n",
    "            \n",
    "            edges[str(s_start)][str(l_start)][str(l_end)] = {\n",
    "                'x_coef': coeffs[0],\n",
    "                'y_coef': coeffs[1],\n",
    "                'cost': cost\n",
    "            }\n",
    "\n",
    "    \n",
    "    \n",
    "    \n",
    "    "
   ]
  },
  {
   "cell_type": "code",
   "execution_count": 260,
   "metadata": {},
   "outputs": [],
   "source": [
    "%matplotlib qt\n",
    "#### Plot Track ####\n",
    "def plot_trackfile(track_data, left_boundary_xy, right_boundary_xy):\n",
    "    x_tmp = np.array([x_i for i, x_i in enumerate(track_data[\"x\"]) if i % 10 == 0])\n",
    "    y_tmp = np.array([y_i for i, y_i in enumerate(track_data[\"y\"]) if i % 10 == 0])\n",
    "    plt.title('IMS Track (meters)')\n",
    "    plt.plot(x_tmp, y_tmp, \"o\", x_mid, y_mid, \"-\")\n",
    "    plt.plot(left_boundary_xy[:,0], left_boundary_xy[:,1], color=\"blue\")\n",
    "    plt.plot(right_boundary_xy[:,0], right_boundary_xy[:,1], color=\"purple\")\n",
    "    plt.axes().set_aspect('equal')\n",
    "    plt.show()\n",
    "\n",
    "plot_trackfile(track_data, left_boundary_xy, right_boundary_xy)"
   ]
  },
  {
   "cell_type": "code",
   "execution_count": 273,
   "metadata": {},
   "outputs": [],
   "source": [
    "def plot_lattice_nodes():\n",
    "\n",
    "    plt.figure(figsize=(10,16))\n",
    "    plt.title('IMS Track Nodes')\n",
    "    plt.plot(x_mid, y_mid, \"-\", color='orange')\n",
    "    plt.plot(left_boundary_xy[:,0], left_boundary_xy[:,1], color=\"black\")\n",
    "    plt.plot(right_boundary_xy[:,0], right_boundary_xy[:,1], color=\"black\")\n",
    "\n",
    "    node_x = [nodes[s][l]['x'] for s in nodes for l in nodes[s]]\n",
    "    node_y = [nodes[s][l]['y'] for s in nodes for l in nodes[s]]\n",
    "    plt.plot(node_x, node_y, \"o\")\n",
    "    \n",
    "    plt.axes().set_aspect('equal')\n",
    "    plt.show()\n",
    "    \n",
    "plot_lattice_nodes()    "
   ]
  },
  {
   "cell_type": "code",
   "execution_count": 293,
   "metadata": {},
   "outputs": [],
   "source": [
    "def plot_lattice_paths_partial(x_mid, y_mid, left_boundary_xy, right_boundary_xy, \n",
    "                               nodes, edges, stations, s_start, s_end):\n",
    "    s_part = [s for s in stations if s_start <= s <= s_end]\n",
    "\n",
    "    plt.figure(figsize=(10,16))\n",
    "    plt.title('IMS Track Nodes')\n",
    "    plt.plot(x_mid, y_mid, \"-\", color='orange')\n",
    "    plt.plot(left_boundary_xy[:,0], left_boundary_xy[:,1], color=\"black\")\n",
    "    plt.plot(right_boundary_xy[:,0], right_boundary_xy[:,1], color=\"black\")\n",
    "\n",
    "    node_x = [nodes[s][l]['x'] for s in nodes for l in nodes[s] if int(s) in s_part]\n",
    "    node_y = [nodes[s][l]['y'] for s in nodes for l in nodes[s] if int(s) in s_part]\n",
    "    plt.plot(node_x, node_y, \"o\", color=\"darkblue\")\n",
    "\n",
    "    u = np.linspace(0,1)\n",
    "    coefs_x = [edges[s][ls][le]['x_coef'] for s in edges for ls in edges[s] for le in edges[s][ls] if int(s) in s_part[:-1]]\n",
    "    coefs_y = [edges[s][ls][le]['y_coef'] for s in edges for ls in edges[s] for le in edges[s][ls] if int(s) in s_part[:-1]]\n",
    "    edges_x = [spline_eval(u, *cx) for cx in coefs_x]\n",
    "    edges_y = [spline_eval(u, *cy) for cy in coefs_y]\n",
    "    for i in range(len(edges_x)):\n",
    "        plt.plot(edges_x[i], edges_y[i], color=\"skyblue\")\n",
    "\n",
    "    plt.axes().set_aspect('equal')\n",
    "    plt.show()\n",
    "\n",
    "    \n",
    "    \n",
    "plot_lattice_paths_partial(x_mid, y_mid, left_boundary_xy, right_boundary_xy, \n",
    "                           nodes, edges, stations, 100, 220)"
   ]
  },
  {
   "cell_type": "code",
   "execution_count": 290,
   "metadata": {},
   "outputs": [
    {
     "data": {
      "text/plain": [
       "4020"
      ]
     },
     "execution_count": 290,
     "metadata": {},
     "output_type": "execute_result"
    }
   ],
   "source": [
    "s_end"
   ]
  },
  {
   "cell_type": "code",
   "execution_count": 291,
   "metadata": {},
   "outputs": [
    {
     "name": "stdout",
     "output_type": "stream",
     "text": [
      "[60, 80, 100, 120, 140]\n"
     ]
    },
    {
     "ename": "IndexError",
     "evalue": "invalid index to scalar variable.",
     "output_type": "error",
     "traceback": [
      "\u001b[0;31m---------------------------------------------------------------------------\u001b[0m",
      "\u001b[0;31mIndexError\u001b[0m                                Traceback (most recent call last)",
      "\u001b[0;32m<ipython-input-291-18b58da6e449>\u001b[0m in \u001b[0;36m<module>\u001b[0;34m\u001b[0m\n\u001b[1;32m      4\u001b[0m \u001b[0mprint\u001b[0m\u001b[0;34m(\u001b[0m\u001b[0ms_part\u001b[0m\u001b[0;34m)\u001b[0m\u001b[0;34m\u001b[0m\u001b[0;34m\u001b[0m\u001b[0m\n\u001b[1;32m      5\u001b[0m \u001b[0;34m\u001b[0m\u001b[0m\n\u001b[0;32m----> 6\u001b[0;31m \u001b[0mcoefs_x\u001b[0m \u001b[0;34m=\u001b[0m \u001b[0;34m[\u001b[0m\u001b[0mnodes\u001b[0m\u001b[0;34m[\u001b[0m\u001b[0ms\u001b[0m\u001b[0;34m]\u001b[0m\u001b[0;34m[\u001b[0m\u001b[0mls\u001b[0m\u001b[0;34m]\u001b[0m\u001b[0;34m[\u001b[0m\u001b[0mle\u001b[0m\u001b[0;34m]\u001b[0m\u001b[0;34m[\u001b[0m\u001b[0;34m'x_coef'\u001b[0m\u001b[0;34m]\u001b[0m \u001b[0;32mfor\u001b[0m \u001b[0ms\u001b[0m \u001b[0;32min\u001b[0m \u001b[0mnodes\u001b[0m \u001b[0;32mfor\u001b[0m \u001b[0mls\u001b[0m \u001b[0;32min\u001b[0m \u001b[0mnodes\u001b[0m\u001b[0;34m[\u001b[0m\u001b[0ms\u001b[0m\u001b[0;34m]\u001b[0m \u001b[0;32mfor\u001b[0m \u001b[0mle\u001b[0m \u001b[0;32min\u001b[0m \u001b[0mnodes\u001b[0m\u001b[0;34m[\u001b[0m\u001b[0ms\u001b[0m\u001b[0;34m]\u001b[0m\u001b[0;34m[\u001b[0m\u001b[0mls\u001b[0m\u001b[0;34m]\u001b[0m \u001b[0;32mif\u001b[0m \u001b[0mint\u001b[0m\u001b[0;34m(\u001b[0m\u001b[0ms\u001b[0m\u001b[0;34m)\u001b[0m \u001b[0;32min\u001b[0m \u001b[0ms_part\u001b[0m\u001b[0;34m[\u001b[0m\u001b[0;34m:\u001b[0m\u001b[0;34m-\u001b[0m\u001b[0;36m1\u001b[0m\u001b[0;34m]\u001b[0m\u001b[0;34m]\u001b[0m\u001b[0;34m\u001b[0m\u001b[0;34m\u001b[0m\u001b[0m\n\u001b[0m",
      "\u001b[0;32m<ipython-input-291-18b58da6e449>\u001b[0m in \u001b[0;36m<listcomp>\u001b[0;34m(.0)\u001b[0m\n\u001b[1;32m      4\u001b[0m \u001b[0mprint\u001b[0m\u001b[0;34m(\u001b[0m\u001b[0ms_part\u001b[0m\u001b[0;34m)\u001b[0m\u001b[0;34m\u001b[0m\u001b[0;34m\u001b[0m\u001b[0m\n\u001b[1;32m      5\u001b[0m \u001b[0;34m\u001b[0m\u001b[0m\n\u001b[0;32m----> 6\u001b[0;31m \u001b[0mcoefs_x\u001b[0m \u001b[0;34m=\u001b[0m \u001b[0;34m[\u001b[0m\u001b[0mnodes\u001b[0m\u001b[0;34m[\u001b[0m\u001b[0ms\u001b[0m\u001b[0;34m]\u001b[0m\u001b[0;34m[\u001b[0m\u001b[0mls\u001b[0m\u001b[0;34m]\u001b[0m\u001b[0;34m[\u001b[0m\u001b[0mle\u001b[0m\u001b[0;34m]\u001b[0m\u001b[0;34m[\u001b[0m\u001b[0;34m'x_coef'\u001b[0m\u001b[0;34m]\u001b[0m \u001b[0;32mfor\u001b[0m \u001b[0ms\u001b[0m \u001b[0;32min\u001b[0m \u001b[0mnodes\u001b[0m \u001b[0;32mfor\u001b[0m \u001b[0mls\u001b[0m \u001b[0;32min\u001b[0m \u001b[0mnodes\u001b[0m\u001b[0;34m[\u001b[0m\u001b[0ms\u001b[0m\u001b[0;34m]\u001b[0m \u001b[0;32mfor\u001b[0m \u001b[0mle\u001b[0m \u001b[0;32min\u001b[0m \u001b[0mnodes\u001b[0m\u001b[0;34m[\u001b[0m\u001b[0ms\u001b[0m\u001b[0;34m]\u001b[0m\u001b[0;34m[\u001b[0m\u001b[0mls\u001b[0m\u001b[0;34m]\u001b[0m \u001b[0;32mif\u001b[0m \u001b[0mint\u001b[0m\u001b[0;34m(\u001b[0m\u001b[0ms\u001b[0m\u001b[0;34m)\u001b[0m \u001b[0;32min\u001b[0m \u001b[0ms_part\u001b[0m\u001b[0;34m[\u001b[0m\u001b[0;34m:\u001b[0m\u001b[0;34m-\u001b[0m\u001b[0;36m1\u001b[0m\u001b[0;34m]\u001b[0m\u001b[0;34m]\u001b[0m\u001b[0;34m\u001b[0m\u001b[0;34m\u001b[0m\u001b[0m\n\u001b[0m",
      "\u001b[0;31mIndexError\u001b[0m: invalid index to scalar variable."
     ]
    }
   ],
   "source": [
    "s_start = 50\n",
    "s_end = 140\n",
    "s_part = [s for s in stations if s_start <= s <= s_end]\n",
    "print(s_part)\n",
    "\n",
    "coefs_x = [nodes[s][ls][le]['x_coef'] for s in nodes for ls in nodes[s] for le in nodes[s][ls] if int(s) in s_part[:-1]]"
   ]
  },
  {
   "cell_type": "code",
   "execution_count": null,
   "metadata": {},
   "outputs": [],
   "source": []
  },
  {
   "cell_type": "code",
   "execution_count": 236,
   "metadata": {},
   "outputs": [
    {
     "data": {
      "image/png": "[encoded data removed]",
      "text/plain": [
       "<Figure size 432x288 with 1 Axes>"
      ]
     },
     "metadata": {
      "needs_background": "light"
     },
     "output_type": "display_data"
    }
   ],
   "source": [
    "plt.plot(x_mid, y_mid)\n",
    "plt.plot(left_boundary_xy[:,0], left_boundary_xy[:,1])\n",
    "plt.plot(right_boundary_xy[:,0], right_boundary_xy[:,1])\n",
    "\n",
    "plt.axes().set_aspect('equal')"
   ]
  },
  {
   "cell_type": "code",
   "execution_count": null,
   "metadata": {},
   "outputs": [],
   "source": []
  },
  {
   "cell_type": "code",
   "execution_count": null,
   "metadata": {},
   "outputs": [],
   "source": []
  }
 ],
 "metadata": {
  "kernelspec": {
   "display_name": "Python 3",
   "language": "python",
   "name": "python3"
  },
  "language_info": {
   "codemirror_mode": {
    "name": "ipython",
    "version": 3
   },
   "file_extension": ".py",
   "mimetype": "text/x-python",
   "name": "python",
   "nbconvert_exporter": "python",
   "pygments_lexer": "ipython3",
   "version": "3.7.7"
  }
 },
 "nbformat": 4,
 "nbformat_minor": 4
}
