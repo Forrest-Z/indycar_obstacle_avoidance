{
 "cells": [
  {
   "cell_type": "code",
   "execution_count": 2,
   "metadata": {},
   "outputs": [],
   "source": [
    "import numpy as np\n",
    "import matplotlib.pyplot as plt\n",
    "import PyQt5\n",
    "from scipy.interpolate import UnivariateSpline\n"
   ]
  },
  {
   "cell_type": "code",
   "execution_count": 3,
   "metadata": {
    "scrolled": true
   },
   "outputs": [
    {
     "name": "stderr",
     "output_type": "stream",
     "text": [
      "/home/mschoder/.pyenv/versions/3.7.7/envs/indy/lib/python3.7/site-packages/matplotlib/figure.py:98: MatplotlibDeprecationWarning: \n",
      "Adding an axes using the same arguments as a previous axes currently reuses the earlier instance.  In a future version, a new instance will always be created and returned.  Meanwhile, this warning can be suppressed, and the future behavior ensured, by passing a unique label to each axes instance.\n",
      "  \"Adding an axes using the same arguments as a previous axes \"\n"
     ]
    },
    {
     "data": {
      "image/png": "[encoded data removed]",
      "text/plain": [
       "<Figure size 432x288 with 1 Axes>"
      ]
     },
     "metadata": {
      "needs_background": "light"
     },
     "output_type": "display_data"
    }
   ],
   "source": [
    "# all in meters\n",
    "track_data = np.genfromtxt(\"../../autonomy/prototype/data/ims_track_midline.csv\", delimiter=\",\", names=True)\n",
    "tracklength = 2.5 * 1609.34  # miles to meters\n",
    "\n",
    "# Track discretization for frenet (s,l)\n",
    "s_map = np.linspace(0, tracklength, num=track_data.shape[0])\n",
    "\n",
    "# Fit spline\n",
    "x_spline = UnivariateSpline(s_map, track_data[\"x\"])\n",
    "dxds     = x_spline.derivative()\n",
    "y_spline = UnivariateSpline(s_map, track_data[\"y\"])\n",
    "dyds     = y_spline.derivative()\n",
    "\n",
    "x_tmp = np.array([x_i for i, x_i in enumerate(track_data[\"x\"]) if i % 10 == 0])\n",
    "y_tmp = np.array([y_i for i, y_i in enumerate(track_data[\"y\"]) if i % 10 == 0])\n",
    "\n",
    "s_tmp = np.linspace(0, 1.0, num=track_data.shape[0]*5)\n",
    "\n",
    "plt.title('IMS Track (meters)')\n",
    "plt.plot(x_tmp, y_tmp, \"o\", x_spline(s_map), y_spline(s_map), \"-\")\n",
    "plt.axes().set_aspect('equal')\n"
   ]
  },
  {
   "cell_type": "code",
   "execution_count": 4,
   "metadata": {},
   "outputs": [
    {
     "data": {
      "text/plain": [
       "array([   0.        ,  255.2125    ,  380.31666667,  505.42083333,\n",
       "       1005.8375    , 1261.05      , 1386.15416667, 1511.25833333,\n",
       "       2011.675     , 2266.8875    , 2391.99166667, 2517.09583333,\n",
       "       2767.30416667, 3017.5125    , 3272.725     , 3397.82916667,\n",
       "       3522.93333333, 4023.35      ])"
      ]
     },
     "execution_count": 4,
     "metadata": {},
     "output_type": "execute_result"
    }
   ],
   "source": [
    "x_spline.get_knots()"
   ]
  },
  {
   "cell_type": "code",
   "execution_count": 75,
   "metadata": {},
   "outputs": [],
   "source": [
    "# generate frenet space\n",
    "def p(s, l, x_ref, y_ref):\n",
    "    dx = dxds(s)\n",
    "    dy = dyds(s)\n",
    "    dx = dx / (dx**2 + dy**2)**(0.5)\n",
    "    dy = dy / (dx**2 + dy**2)**(0.5)\n",
    "    n_x = -dy \n",
    "    n_y =  dx \n",
    "    return np.vstack((n_x*l + x_ref(s), n_y*l + y_ref(s)))\n",
    "\n",
    "def t(s, l, x_ref, y_ref):\n",
    "    dx = dxds(s)\n",
    "    dy = dyds(s)\n",
    "    dx = dx / (dx**2 + dy**2)**(0.5)\n",
    "    dy = dy / (dx**2 + dy**2)**(0.5)\n",
    "    return np.vstack((dx*l + x_ref(s), dy*l + y_ref(s)))\n",
    "\n",
    "def heading(s):\n",
    "    dx = dxds(s)\n",
    "    dy = dyds(s)\n",
    "    return np.arctan2(dy, dx)\n",
    "\n",
    "# grid space\n",
    "s_map = np.array([d for d in range(0, int(tracklength), 20)])\n",
    "l_map = np.array([d for d in range(-10, 11)])\n",
    "displacements = l_map\n",
    "\n",
    "\n",
    "layers = []\n",
    "for i in range(len(s_map)):\n",
    "    station = s_map[i]\n",
    "    layers.append(dict())\n",
    "\n",
    "    for l in displacements:\n",
    "        \n",
    "        if -track_data[\"width_left\"][i] < l < track_data[\"width_right\"][i]:\n",
    "            xy = p(station,l, x_spline, y_spline)\n",
    "            layers[i][l] = (heading(station), xy[0][0], xy[1][0])\n",
    "\n",
    "# connect layers\n",
    "paths = []\n",
    "for i in range(len(s_map) - 1):\n",
    "    s_start = s_map[i]\n",
    "    s_end   = s_map[i+1]\n",
    "\n",
    "    paths.append(dict())\n",
    "\n",
    "    for j, l_start in enumerate(layers[i]):\n",
    "\n",
    "        paths[i][l_start] = dict()\n",
    "\n",
    "        for l_end in layers[i+1]:\n",
    "\n",
    "            heading_start, x_start, y_start = layers[i]  [l_start]\n",
    "            heading_end,   x_end,   y_end   = layers[i+1][l_end]\n",
    "\n",
    "            x_a0 = x_start\n",
    "            x_a1 = np.cos(heading_start) # zeroth order length approximation\n",
    "            x_a2 = 3*x_end - np.cos(heading_end) - 2*x_a1 - 3*x_a0\n",
    "            x_a3 = x_end - x_a2 - x_a1 - x_a0\n",
    "\n",
    "            y_a0 = y_start\n",
    "            y_a1 = np.sin(heading_start) # zeroth order length approximation\n",
    "            y_a2 = 3*y_end - np.sin(heading_end) - 2*y_a1 - 3*y_a0\n",
    "            y_a3 = y_end - y_a2 - y_a1 - y_a0\n",
    "\n",
    "            paths[i][l_start][l_end] = (\n",
    "                (x_a0, x_a1, x_a2, x_a3), \n",
    "                (y_a0, y_a1, y_a2, y_a3)\n",
    "                )\n",
    "            "
   ]
  },
  {
   "cell_type": "code",
   "execution_count": 76,
   "metadata": {},
   "outputs": [
    {
     "name": "stdout",
     "output_type": "stream",
     "text": [
      "layer:  (1.5903260674410407, 706.6503592158203, 402.11138748159664)\n",
      "path:  ((706.6503592158203, -0.019528499194250766, -1.0828005374287386, 0.7221325085887429), (402.11138748159664, 0.9998093006764941, 56.62398488309145, -37.74931817568972))\n"
     ]
    }
   ],
   "source": [
    "# layers[station][lateral displacement] = (heading, x, y)\n",
    "# paths[station][start_node][end_node] = ((x0,x1,x2,x3),(y0,y1,y2,y3)) -> spline coefficients\n",
    "#    x0 and y0 are x,y cartesian coordinates\n",
    "print('layer: ', layers[100][3])\n",
    "print('path: ', paths[100][3][3])"
   ]
  },
  {
   "cell_type": "markdown",
   "metadata": {},
   "source": [
    "### Graph Extraction"
   ]
  },
  {
   "cell_type": "code",
   "execution_count": 77,
   "metadata": {},
   "outputs": [
    {
     "name": "stdout",
     "output_type": "stream",
     "text": [
      "(51, 3)\n",
      "(56, 0)\n"
     ]
    }
   ],
   "source": [
    "# Get current location on track; nearest node\n",
    "# Assume we have frenet location (s,l) of the vehicle\n",
    "\n",
    "cur_s = 1010.85\n",
    "cur_l = 3.1\n",
    "plan_horizon = 90  # given along s midline (meters)\n",
    "\n",
    "def find_nearest(array, value):\n",
    "    idx = (np.abs(array - value)).argmin()\n",
    "    return idx\n",
    "\n",
    "def nearest_node_idx(s_map, l_map, s, l):\n",
    "    s_idx = find_nearest(s_map, s)\n",
    "    s_idx = s_idx + 1 if (s_map[s_idx] - s) < 0 else s_idx\n",
    "    l_idx = l_map[find_nearest(l_map, l)]\n",
    "    return s_idx, l_idx\n",
    "\n",
    "start_idxs = nearest_node_idx(s_map, l_map, cur_s, cur_l)\n",
    "end_idxs = nearest_node_idx(s_map, l_map, cur_s + plan_horizon, 0)\n",
    "print(start_idxs)\n",
    "print(end_idxs)\n",
    "\n",
    "# Extract graph between start and end idxs\n",
    "local_layers = layers[start_idxs[0]:end_idxs[0]+1]\n",
    "local_paths = paths[start_idxs[0]:end_idxs[0]]\n",
    "\n",
    "# Replace first layer with only the closest (start) node\n",
    "local_layers[0] = {start_idxs[1]: local_layers[0][start_idxs[1]]}\n",
    "\n",
    "# Remove all paths originating from old nodes in the first layer\n",
    "local_paths[0] = {start_idxs[1]: local_paths[0][start_idxs[1]]}\n"
   ]
  },
  {
   "cell_type": "code",
   "execution_count": 78,
   "metadata": {},
   "outputs": [],
   "source": [
    "def spline(u, a0, a1, a2, a3):\n",
    "    return a3*u**3 + a2*u**2 + a1*u + a0"
   ]
  },
  {
   "cell_type": "code",
   "execution_count": 79,
   "metadata": {},
   "outputs": [
    {
     "data": {
      "text/plain": [
       "6"
      ]
     },
     "execution_count": 79,
     "metadata": {},
     "output_type": "execute_result"
    }
   ],
   "source": [
    "len(local_layers)"
   ]
  },
  {
   "cell_type": "code",
   "execution_count": 80,
   "metadata": {},
   "outputs": [],
   "source": [
    "def collision_check_circle(pt, obs):\n",
    "    '''\n",
    "    Checks for collisions by determining whether point pt is inside circle obs\n",
    "    pt is a 2-tuple of form (x,y)\n",
    "    Obs consists of a 2-tuple ((x,y),r) to define the circle\n",
    "    Returns False for no collision; True indicates collision\n",
    "    '''\n",
    "    d = ((pt[0] - obs[0][0])**2 + (pt[1] - obs[0][1])**2)**0.5\n",
    "    if d <= obs[1]:\n",
    "        return True\n",
    "    else:\n",
    "        return False\n",
    "\n",
    "def remove_node(layers, paths, s_idx, l_idx):\n",
    "    # Delete node from layers\n",
    "    if l_idx in layers[s_idx]:\n",
    "        del layers[s_idx][l_idx]\n",
    "    \n",
    "    # Delete outgoing paths\n",
    "    if l_idx in paths[s_idx]:\n",
    "        del paths[s_idx][l_idx]\n",
    "    \n",
    "    # Delete incoming paths\n",
    "    for snode, path in paths[s_idx - 1].items():\n",
    "        if l_idx in path:\n",
    "            del path[l_idx]\n",
    "            \n",
    "def remove_edge(paths, sidx_start, lidx_start, lidx_end):\n",
    "    # Find edge in paths and delete\n",
    "    if lidx_start in paths[sidx_start] and lidx_end in paths[sidx_start][lidx_start]:\n",
    "        del paths[sidx_start][lidx_start][lidx_end]\n",
    "        \n",
    "        \n",
    "def collision_checker(layers, paths, obs_list):\n",
    "    delete_nodes = []\n",
    "    delete_edges = []\n",
    "    u = np.linspace(0,1,20)  # Last term determines # of sample points for each spline\n",
    "    for s,layer in enumerate(layers):\n",
    "        for node in layer:\n",
    "            x,y = layer[node][1], layer[node][2]\n",
    "            for obs in obs_list:\n",
    "                if collision_check_circle((x,y), obs):  # True indicates collision\n",
    "                    delete_nodes.append((s, node))\n",
    "                    \n",
    "    for s,layer in enumerate(paths):\n",
    "        for startnode in layer:\n",
    "            for dn in layer[startnode]:\n",
    "                coeff = layer[startnode][dn]\n",
    "                x_spline = spline(u, *coeff[0])\n",
    "                y_spline = spline(u, *coeff[1])\n",
    "                for i in range(len(x_spline)):\n",
    "                    pt = (x_spline[i], y_spline[i])\n",
    "                    for obs in obs_list:\n",
    "                        if collision_check_circle(pt, obs):\n",
    "                            delete_edges.append((s,startnode,dn))\n",
    "                            \n",
    "    # Delete everything in delete lists\n",
    "    for i in delete_nodes:\n",
    "        print(i)\n",
    "        remove_node(layers, paths, *i)\n",
    "        \n",
    "    for i in delete_edges:\n",
    "        remove_edge(paths, *i)"
   ]
  },
  {
   "cell_type": "code",
   "execution_count": 81,
   "metadata": {},
   "outputs": [],
   "source": [
    "def plot_graph(ax, layers, paths):\n",
    "    u = np.linspace(0,1)\n",
    "    for layer in layers:\n",
    "        for node in layer:\n",
    "            x,y = layer[node][1], layer[node][2]\n",
    "            ax.scatter(x,y, color='b')\n",
    "    for layer in paths:\n",
    "        for startnode in layer:\n",
    "            for dn in layer[startnode]:\n",
    "                coeff = layer[startnode][dn]\n",
    "                x_spline = spline(u, *coeff[0])\n",
    "                y_spline = spline(u, *coeff[1])\n",
    "                ax.plot(x_spline, y_spline, color='skyblue')\n",
    "    ax.set_aspect('equal')"
   ]
  },
  {
   "cell_type": "code",
   "execution_count": 84,
   "metadata": {},
   "outputs": [
    {
     "data": {
      "text/plain": [
       "<matplotlib.collections.PathCollection at 0x7fb88c6e3210>"
      ]
     },
     "execution_count": 84,
     "metadata": {},
     "output_type": "execute_result"
    }
   ],
   "source": [
    "%matplotlib qt\n",
    "fig, ax = plt.subplots(figsize=(10,6))\n",
    "\n",
    "# Plot track boundary\n",
    "# ax.plot(x_tmp, y_tmp)\n",
    "\n",
    "# Plot subsection of graph\n",
    "plot_graph(ax, local_layers, local_paths)\n",
    "plt.scatter(*p(cur_s, cur_l, x_spline, y_spline), color='green')  # print current location"
   ]
  },
  {
   "cell_type": "code",
   "execution_count": 85,
   "metadata": {},
   "outputs": [],
   "source": [
    "# Create some obstacles\n",
    "# Small static - circle\n",
    "obstacle1 = ((623.1, -498.5), 1.2)   # ((x,y), rad) -> circle\n",
    "# path-like - series of circles\n",
    "obstacle2 = ((644, -473), 2.1)\n",
    "\n",
    "obs_list = [obstacle1, obstacle2]\n",
    "\n",
    "# Remove obstacle collisions\n",
    "collision_checker(local_layers, local_paths, obs_list)\n",
    "\n",
    "def plot_obstacles(ax, obs_list):\n",
    "    for obs in obs_list:\n",
    "        obs_shape = plt.Circle(obs[0], obs[1], color = 'black', zorder=10)\n",
    "        ax.add_artist(obs_shape)\n",
    "              \n",
    "plot_obstacles(ax, obs_list)"
   ]
  },
  {
   "cell_type": "code",
   "execution_count": 86,
   "metadata": {},
   "outputs": [],
   "source": [
    "def edge_cost_curv(sidx, lidx, lidx_end):\n",
    "    \n",
    "    pass"
   ]
  },
  {
   "cell_type": "code",
   "execution_count": 87,
   "metadata": {},
   "outputs": [],
   "source": [
    "def find_shortest_path(local_layers, local_paths):\n",
    "\n",
    "    n_stations = len(local_layers)\n",
    "    stations = range(n_stations - 1, -1, -1)\n",
    "    segments = range(n_stations - 2, -1, -1)\n",
    "\n",
    "    costs = {}  # mimics layers structure\n",
    "    for s in stations:\n",
    "        costs[s] = {}\n",
    "\n",
    "    for s in stations:\n",
    "        for l_start in local_layers[s]:\n",
    "            if s == n_stations-1:\n",
    "                costs[s][l_start] = 0  # initialize last layer costs\n",
    "            else:\n",
    "\n",
    "                for l_end in local_layers[s+1]:  # parent layers\n",
    "\n",
    "                    # compute edge cost - temp use of euclidean dist\n",
    "    #                 coeffs = local_paths[s-1][l_start][l_end]\n",
    "                    xa = local_layers[s][l_start][1]\n",
    "                    ya = local_layers[s][l_start][2]\n",
    "                    xb = local_layers[s+1][l_end][1]\n",
    "                    yb = local_layers[s+1][l_end][2]\n",
    "                    ed = ((xa - xb)**2 + (ya - yb)**2)**0.5\n",
    "\n",
    "                    if l_start in costs[s]:\n",
    "                        # update cost\n",
    "                        if ed + costs[s+1][l_end] < costs[s][l_start]:\n",
    "                            costs[s][l_start] = ed + costs[s+1][l_end]\n",
    "                    else:\n",
    "                        costs[s][l_start] = ed + costs[s+1][l_end]  # initialize\n",
    "\n",
    "    min_cost_path = []  # (station(s), node(l))\n",
    "    for s in stations:\n",
    "        d = costs[s]\n",
    "        node = min(d, key=d.get)\n",
    "        min_cost_path.append((s, node))\n",
    "\n",
    "    return list(reversed(min_cost_path))"
   ]
  },
  {
   "cell_type": "code",
   "execution_count": 88,
   "metadata": {},
   "outputs": [
    {
     "data": {
      "text/plain": [
       "[(0, 3), (1, 7), (2, 7), (3, 7), (4, 7), (5, -7)]"
      ]
     },
     "execution_count": 88,
     "metadata": {},
     "output_type": "execute_result"
    }
   ],
   "source": [
    "mcp = find_shortest_path(local_layers, local_paths)\n",
    "mcp"
   ]
  },
  {
   "cell_type": "code",
   "execution_count": 93,
   "metadata": {},
   "outputs": [
    {
     "name": "stdout",
     "output_type": "stream",
     "text": [
      "0 (1, 7)\n",
      "((579.3392754136788, 0.8987534103890926, 41.85272191672152, -27.91571033499963), (-517.2600447683926, 0.43845445295261315, 36.413571607514086, -24.250130478414235))\n",
      "1 (2, 7)\n",
      "((594.1750404057898, 0.8570662388333377, 45.14289901061329, -30.11042582941741), (-504.65814918634015, 0.5152062327379942, 29.868271851681584, -19.889172679028718))\n",
      "2 (3, 7)\n",
      "((610.064579825819, 0.8115867718076487, 43.06226546658081, -28.72433049143808), (-494.16384378094926, 0.5842318990151424, 33.7780169446612, -22.49800544496202))\n",
      "3 (4, 7)\n",
      "((625.2141015727694, 0.7631262306551346, 40.73296774945584, -27.172302094411634), (-482.29960038223504, 0.6462494534512863, 37.34841884740831, -24.880355113101643))\n",
      "4 (5, -7)\n",
      "((639.5378934584688, 0.7121554463320342, 69.83581593277381, -46.57497620528693), (-469.1852871944771, 0.702021808962956, 12.899151117117299, -8.582685774252866))\n"
     ]
    }
   ],
   "source": [
    "# Plot min cost path\n",
    "def plot_mcp(ax, layers, paths, mcp):\n",
    "    u = np.linspace(0,1)\n",
    "    # Plot nodes\n",
    "    for i,p in enumerate(mcp):\n",
    "        data = layers[p[0]][p[1]]\n",
    "        x,y = data[1], data[2]\n",
    "        ax.scatter(x, y, color = 'orange', zorder = 15)\n",
    "    \n",
    "    # Plot edges\n",
    "    for i in range(len(mcp)-1):\n",
    "        p = mcp[i+1]\n",
    "        s = mcp[i][0]\n",
    "        l = mcp[i][1]\n",
    "        print(i,p)\n",
    "        coeffs = paths[s][l][p[1]]\n",
    "        print(coeffs)\n",
    "        x_spline = spline(u, *coeffs[0])\n",
    "        y_spline = spline(u, *coeffs[1])\n",
    "        ax.plot(x_spline, y_spline, color='yellow')\n",
    "        \n",
    "    \n",
    "plot_mcp(ax, local_layers, local_paths, mcp)\n"
   ]
  },
  {
   "cell_type": "code",
   "execution_count": null,
   "metadata": {},
   "outputs": [],
   "source": [
    "        # calculate required derivatives\n",
    "        x_dd = 2 * coeffs_x[ind_spls, 2] \\\n",
    "               + 6 * coeffs_x[ind_spls, 3] * t_spls\n",
    "\n",
    "        y_dd = 2 * coeffs_y[ind_spls, 2] \\\n",
    "               + 6 * coeffs_y[ind_spls, 3] * t_spls\n",
    "\n",
    "        # calculate curvature kappa\n",
    "        kappa = (x_d * y_dd - y_d * x_dd) / np.power(np.power(x_d, 2) + np.power(y_d, 2), 1.5)\n",
    "        \n",
    "        x_d = coeffs_x[ind_spls, 1] \\\n",
    "          + 2 * coeffs_x[ind_spls, 2] * t_spls \\\n",
    "          + 3 * coeffs_x[ind_spls, 3] * np.power(t_spls, 2)\n",
    "\n",
    "    y_d = coeffs_y[ind_spls, 1] \\\n",
    "          + 2 * coeffs_y[ind_spls, 2] * t_spls \\\n",
    "          + 3 * coeffs_y[ind_spls, 3] * np.power(t_spls, 2)\n"
   ]
  },
  {
   "cell_type": "code",
   "execution_count": 98,
   "metadata": {},
   "outputs": [
    {
     "data": {
      "text/plain": [
       "((7.123652604608527,\n",
       "  -0.001034153529574795,\n",
       "  -20.9008004743697,\n",
       "  13.93585337670833),\n",
       " (-199.15697931978207,\n",
       "  -0.9999994652630957,\n",
       "  -56.83980318838712,\n",
       "  37.89320599002019))"
      ]
     },
     "execution_count": 98,
     "metadata": {},
     "output_type": "execute_result"
    }
   ],
   "source": [
    "testcof = paths[10][4][-3]\n",
    "testcof"
   ]
  },
  {
   "cell_type": "code",
   "execution_count": 103,
   "metadata": {},
   "outputs": [],
   "source": [
    "def calc_curvature(x_coeff, y_coeff):\n",
    "    # Assumes s normalized (0,1)\n",
    "    t = np.linspace(0.0, 1.0, 50)\n",
    "    x_d = x_coeff[1] + 2 * x_coeff[2] * t + 3 * x_coeff[3] * np.power(t, 2)\n",
    "    y_d = y_coeff[1] + 2 * y_coeff[2] * t + 3 * y_coeff[3] * np.power(t, 2)\n",
    "    x_dd = 2 * x_coeff[2] + 6 * x_coeff[3] * t\n",
    "    y_dd = 2 * y_coeff[2] + 6 * y_coeff[3] * t\n",
    "    kappa = (x_d * y_dd - y_d * x_dd) / np.power(np.power(x_d, 2) + np.power(y_d, 2), 1.5)\n",
    "    return kappa"
   ]
  },
  {
   "cell_type": "code",
   "execution_count": 106,
   "metadata": {},
   "outputs": [],
   "source": [
    "k = calc_curvature(testcof[0], testcof[1])"
   ]
  },
  {
   "cell_type": "code",
   "execution_count": 107,
   "metadata": {},
   "outputs": [
    {
     "data": {
      "text/plain": [
       "1.7381752279868186"
      ]
     },
     "execution_count": 107,
     "metadata": {},
     "output_type": "execute_result"
    }
   ],
   "source": [
    "np.mean(np.abs(k))"
   ]
  },
  {
   "cell_type": "code",
   "execution_count": 108,
   "metadata": {},
   "outputs": [
    {
     "data": {
      "text/plain": [
       "-41.6840164297055"
      ]
     },
     "execution_count": 108,
     "metadata": {},
     "output_type": "execute_result"
    }
   ],
   "source": [
    "np.min(k)"
   ]
  },
  {
   "cell_type": "code",
   "execution_count": 109,
   "metadata": {},
   "outputs": [
    {
     "data": {
      "text/plain": [
       "42.37288753843755"
      ]
     },
     "execution_count": 109,
     "metadata": {},
     "output_type": "execute_result"
    }
   ],
   "source": [
    "np.max(k)"
   ]
  },
  {
   "cell_type": "code",
   "execution_count": 124,
   "metadata": {},
   "outputs": [],
   "source": [
    "x_coeff, y_coeff = testcof[0], testcof[1]\n",
    "t = np.linspace(0.0, 1.0, 50)\n",
    "x = x_coeff[0] + x_coeff[1] * t + x_coeff[2] * np.power(t,2) + x_coeff[3] * np.power(t,3)\n",
    "y = y_coeff[0] + y_coeff[1] * t + y_coeff[2] * np.power(t,2) + y_coeff[3] * np.power(t,3)\n",
    "spl_coords = np.hstack((x.reshape(50,1), y.reshape(50,1)))\n",
    "spl_len = np.sum(np.sqrt(np.sum(np.power(np.diff(spl_coords, axis=0), 2), axis=1)))"
   ]
  },
  {
   "cell_type": "code",
   "execution_count": 126,
   "metadata": {},
   "outputs": [
    {
     "data": {
      "text/plain": [
       "21.129729088319213"
      ]
     },
     "execution_count": 126,
     "metadata": {},
     "output_type": "execute_result"
    }
   ],
   "source": [
    "spl_len"
   ]
  },
  {
   "cell_type": "code",
   "execution_count": 127,
   "metadata": {},
   "outputs": [
    {
     "data": {
      "text/plain": [
       "{-7: ((0.08305274454973732,\n",
       "   0.04003624304135358,\n",
       "   -13.157656880169727,\n",
       "   8.766900001022835),\n",
       "  (-60.27326371242031,\n",
       "   -0.9991982282025592,\n",
       "   -57.12893629233494,\n",
       "   38.08579800549804)),\n",
       " -6: ((0.08305274454973732,\n",
       "   0.04003624304135358,\n",
       "   -10.158634976169063,\n",
       "   6.767552065022393),\n",
       "  (-60.27326371242031,\n",
       "   -0.9991982282025592,\n",
       "   -57.052668835023695,\n",
       "   38.0349530339572)),\n",
       " -5: ((0.08305274454973732,\n",
       "   0.04003624304135358,\n",
       "   -7.159613072168394,\n",
       "   4.768204129021946),\n",
       "  (-60.27326371242031,\n",
       "   -0.9991982282025592,\n",
       "   -56.976401377712534,\n",
       "   37.98410806241643)),\n",
       " -4: ((0.08305274454973732,\n",
       "   0.04003624304135358,\n",
       "   -4.16059116816773,\n",
       "   2.7688561930215037),\n",
       "  (-60.27326371242031,\n",
       "   -0.9991982282025592,\n",
       "   -56.900133920401316,\n",
       "   37.93326309087562)),\n",
       " -3: ((0.08305274454973732,\n",
       "   0.04003624304135358,\n",
       "   -1.1615692641670643,\n",
       "   0.76950825702106),\n",
       "  (-60.27326371242031,\n",
       "   -0.9991982282025592,\n",
       "   -56.8238664630901,\n",
       "   37.88241811933481)),\n",
       " -2: ((0.08305274454973732,\n",
       "   0.04003624304135358,\n",
       "   1.8374526398336024,\n",
       "   -1.2298396789793846),\n",
       "  (-60.27326371242031,\n",
       "   -0.9991982282025592,\n",
       "   -56.74759900577888,\n",
       "   37.831573147793996)),\n",
       " -1: ((0.08305274454973732,\n",
       "   0.04003624304135358,\n",
       "   4.836474543834269,\n",
       "   -3.2291876149798293),\n",
       "  (-60.27326371242031,\n",
       "   -0.9991982282025592,\n",
       "   -56.67133154846766,\n",
       "   37.780728176253184)),\n",
       " 0: ((0.08305274454973732,\n",
       "   0.04003624304135358,\n",
       "   7.8354964478349345,\n",
       "   -5.228535550980272),\n",
       "  (-60.27326371242031,\n",
       "   -0.9991982282025592,\n",
       "   -56.595064091156445,\n",
       "   37.72988320471237)),\n",
       " 1: ((0.08305274454973732,\n",
       "   0.04003624304135358,\n",
       "   10.834518351835602,\n",
       "   -7.227883486980717),\n",
       "  (-60.27326371242031,\n",
       "   -0.9991982282025592,\n",
       "   -56.51879663384523,\n",
       "   37.67903823317156)),\n",
       " 2: ((0.08305274454973732,\n",
       "   0.04003624304135358,\n",
       "   13.833540255836267,\n",
       "   -9.227231422981161),\n",
       "  (-60.27326371242031,\n",
       "   -0.9991982282025592,\n",
       "   -56.44252917653401,\n",
       "   37.62819326163075)),\n",
       " 3: ((0.08305274454973732,\n",
       "   0.04003624304135358,\n",
       "   16.832562159836932,\n",
       "   -11.226579358981605),\n",
       "  (-60.27326371242031,\n",
       "   -0.9991982282025592,\n",
       "   -56.36626171922279,\n",
       "   37.57734829008994)),\n",
       " 4: ((0.08305274454973732,\n",
       "   0.04003624304135358,\n",
       "   19.831584063837596,\n",
       "   -13.225927294982046),\n",
       "  (-60.27326371242031,\n",
       "   -0.9991982282025592,\n",
       "   -56.28999426191157,\n",
       "   37.526503318549125)),\n",
       " 5: ((0.08305274454973732,\n",
       "   0.04003624304135358,\n",
       "   22.830605967838263,\n",
       "   -15.225275230982492),\n",
       "  (-60.27326371242031,\n",
       "   -0.9991982282025592,\n",
       "   -56.213726804600356,\n",
       "   37.47565834700831)),\n",
       " 6: ((0.08305274454973732,\n",
       "   0.04003624304135358,\n",
       "   25.829627871838934,\n",
       "   -17.224623166982937),\n",
       "  (-60.27326371242031,\n",
       "   -0.9991982282025592,\n",
       "   -56.137459347289195,\n",
       "   37.424813375467544)),\n",
       " 7: ((0.08305274454973732,\n",
       "   0.04003624304135358,\n",
       "   28.8286497758396,\n",
       "   -19.223971102983384),\n",
       "  (-60.27326371242031,\n",
       "   -0.9991982282025592,\n",
       "   -56.06119188997795,\n",
       "   37.3739684039267))}"
      ]
     },
     "execution_count": 127,
     "metadata": {},
     "output_type": "execute_result"
    }
   ],
   "source": [
    "paths[3][-2]"
   ]
  },
  {
   "cell_type": "code",
   "execution_count": 122,
   "metadata": {},
   "outputs": [
    {
     "data": {
      "text/plain": [
       "100"
      ]
     },
     "execution_count": 122,
     "metadata": {},
     "output_type": "execute_result"
    }
   ],
   "source": [
    "len(test)\n"
   ]
  },
  {
   "cell_type": "code",
   "execution_count": null,
   "metadata": {},
   "outputs": [],
   "source": []
  }
 ],
 "metadata": {
  "kernelspec": {
   "display_name": "Python 3",
   "language": "python",
   "name": "python3"
  },
  "language_info": {
   "codemirror_mode": {
    "name": "ipython",
    "version": 3
   },
   "file_extension": ".py",
   "mimetype": "text/x-python",
   "name": "python",
   "nbconvert_exporter": "python",
   "pygments_lexer": "ipython3",
   "version": "3.7.7"
  }
 },
 "nbformat": 4,
 "nbformat_minor": 4
}
